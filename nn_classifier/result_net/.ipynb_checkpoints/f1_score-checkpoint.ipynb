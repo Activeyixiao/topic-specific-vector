{
 "cells": [
  {
   "cell_type": "code",
   "execution_count": 1,
   "id": "hollywood-sister",
   "metadata": {},
   "outputs": [],
   "source": [
    "import pandas as pd\n",
    "import os"
   ]
  },
  {
   "cell_type": "code",
   "execution_count": 2,
   "id": "hearing-cooking",
   "metadata": {},
   "outputs": [],
   "source": [
    "#folder = '/home/yixiao/NLP/KEL/Archive/result_svm/MC'\n",
    "folder = 'BD_remote'\n",
    "all_file = [os.path.join(folder,f) for f in os.listdir(folder) if f.endswith('.csv')]"
   ]
  },
  {
   "cell_type": "code",
   "execution_count": 3,
   "id": "finished-heather",
   "metadata": {},
   "outputs": [
    {
     "name": "stdout",
     "output_type": "stream",
     "text": [
      "topic_T_roberta_large_16_0.005_.csv 0.4526685714285714\n"
     ]
    }
   ],
   "source": [
    "for file in all_file:\n",
    "    f1_ls = []\n",
    "    with open(file,'r') as inf:\n",
    "        first_line = inf.readline()\n",
    "        for line in inf.readlines():\n",
    "            f1_ls.append(float(line.strip().split(',')[4]))\n",
    "    print(file.split('/')[-1],sum(f1_ls)/len(f1_ls))"
   ]
  },
  {
   "cell_type": "code",
   "execution_count": null,
   "id": "cubic-cradle",
   "metadata": {},
   "outputs": [],
   "source": [
    "topic_T_bert_large_16_0.005_.csv 0.61222"
   ]
  },
  {
   "cell_type": "code",
   "execution_count": 90,
   "id": "pregnant-bumper",
   "metadata": {},
   "outputs": [],
   "source": [
    "import json\n",
    "D = json.load(open('/home/yixiao/Desktop/repo/word_embedding/general_vectors/masked/mask_bert_base.json'))"
   ]
  },
  {
   "cell_type": "code",
   "execution_count": 9,
   "id": "graduate-alert",
   "metadata": {},
   "outputs": [],
   "source": [
    "a = list(map(float,D['apple']))"
   ]
  },
  {
   "cell_type": "code",
   "execution_count": 92,
   "id": "mechanical-handy",
   "metadata": {},
   "outputs": [
    {
     "data": {
      "text/plain": [
       "768"
      ]
     },
     "execution_count": 92,
     "metadata": {},
     "output_type": "execute_result"
    }
   ],
   "source": []
  },
  {
   "cell_type": "code",
   "execution_count": 12,
   "id": "apparent-protest",
   "metadata": {},
   "outputs": [],
   "source": [
    "new_D = {}\n",
    "for key in D:\n",
    "    new_D[key]=list(map(float, D[key]))"
   ]
  },
  {
   "cell_type": "code",
   "execution_count": 15,
   "id": "sublime-steam",
   "metadata": {},
   "outputs": [],
   "source": [
    "json.dump(new_D,open('new_CSLB.json','w'))"
   ]
  },
  {
   "cell_type": "code",
   "execution_count": 1,
   "id": "spread-singles",
   "metadata": {},
   "outputs": [
    {
     "data": {
      "text/plain": [
       "'home/yixiao/desktop'"
      ]
     },
     "execution_count": 1,
     "metadata": {},
     "output_type": "execute_result"
    }
   ],
   "source": [
    "import os\n",
    "os.path.join('home','yixiao','desktop')"
   ]
  }
 ],
 "metadata": {
  "kernelspec": {
   "display_name": "Python 3",
   "language": "python",
   "name": "python3"
  },
  "language_info": {
   "codemirror_mode": {
    "name": "ipython",
    "version": 3
   },
   "file_extension": ".py",
   "mimetype": "text/x-python",
   "name": "python",
   "nbconvert_exporter": "python",
   "pygments_lexer": "ipython3",
   "version": "3.8.5"
  }
 },
 "nbformat": 4,
 "nbformat_minor": 5
}

{
 "cells": [
  {
   "cell_type": "code",
   "execution_count": 1,
   "id": "unnecessary-insured",
   "metadata": {},
   "outputs": [],
   "source": [
    "import argparse\n",
    "import pandas as pd\n",
    "import pickle\n",
    "import json\n",
    "import os\n",
    "from collections import defaultdict\n",
    "from sklearn.model_selection import train_test_split\n",
    "\n",
    "def read_concepts(file):\n",
    "    with open(file, 'r') as f:\n",
    "        nouns = [line.strip() for line in f]\n",
    "    return nouns\n",
    "\n",
    "\n",
    "def word_feature_dic(evaluation_dataset_dirpath):\n",
    "    if 'CSLB' in evaluation_dataset_dirpath:\n",
    "        D_concept_features = defaultdict(list)\n",
    "        D_index_feature = defaultdict(int)\n",
    "        with open(os.path.join(evaluation_dataset_dirpath,'feature_matrix.dat'),'r') as inf:\n",
    "            all_features = inf.readline().strip().split('\\t')[1:]\n",
    "            for INDEX,feature in enumerate(all_features):\n",
    "                D_index_feature[INDEX]=feature\n",
    "            all_concept_v = inf.readlines()\n",
    "            for line in all_concept_v:\n",
    "                line = line.strip().split('\\t')\n",
    "                concept = line[0]\n",
    "                concept = concept.replace('_',' ')\n",
    "                vector = line[1:]\n",
    "                for n,v in enumerate(vector):\n",
    "                    if v != str(0.0):\n",
    "                        D_concept_features[concept].append(D_index_feature[n])\n",
    "    \n",
    "    elif 'WordNet' in evaluation_dataset_dirpath:\n",
    "        with open(os.path.join(evaluation_dataset_dirpath,'WNdb-3.0/word_label.pkl'),'rb') as f:\n",
    "            D_concept_features = pickle.load(f)\n",
    "\n",
    "    elif 'BabelDomains' in evaluation_dataset_dirpath:\n",
    "        D_concept_features = defaultdict(list)\n",
    "        with open(os.path.join(evaluation_dataset_dirpath,'domain_vectors.txt'),'r') as inf:\n",
    "            for line in inf.readlines():\n",
    "                cols = line.strip().split('\\t')\n",
    "                domain = cols[0]\n",
    "                concepts = [i.split(' ')[0] for i in cols[1:]]\n",
    "                for concept in concepts:\n",
    "                    D_concept_features[concept].append(domain)\n",
    "\n",
    "    elif 'McRae' in evaluation_dataset_dirpath:\n",
    "        D_concept_features = defaultdict(list)\n",
    "        file = pd.read_csv(os.path.join(evaluation_dataset_dirpath,'McRae_new.csv'))\n",
    "        features = list(file.columns)[1:]\n",
    "        value_ls = file.values.tolist()\n",
    "        for ls in value_ls:\n",
    "            concept = ls[0]\n",
    "            values = ls[1:]\n",
    "            for inx,value in enumerate(values):\n",
    "                if value!=0:\n",
    "                    D_concept_features[concept].append(features[inx])\n",
    "\n",
    "    return D_concept_features"
   ]
  },
  {
   "cell_type": "code",
   "execution_count": 2,
   "id": "painful-wallace",
   "metadata": {},
   "outputs": [],
   "source": [
    "def selected_word_featrue(D,bar,*embeddings):\n",
    "    feature_word_d = defaultdict(list)\n",
    "    for word in D.keys():\n",
    "        found=True\n",
    "        for idx,emb in enumerate(embeddings):\n",
    "            if not word in emb:\n",
    "                found=False\n",
    "                #print(word,' not found in embedding at position ',idx)\n",
    "                break\n",
    "        if found:\n",
    "            values = D[word]\n",
    "            for value in values:\n",
    "                feature_word_d[value].append(word)\n",
    "\n",
    "    print(f'Found {len(feature_word_d)} features shared by all vectors')\n",
    "    selected_word = set()\n",
    "    selected_feature_word_d = defaultdict(list)\n",
    "    for f,ws in feature_word_d.items():\n",
    "        if len(ws) >= int(bar):\n",
    "            selected_feature_word_d[f]=ws\n",
    "            for w in ws:\n",
    "                selected_word.add(w)\n",
    "    return selected_feature_word_d, selected_word"
   ]
  },
  {
   "cell_type": "code",
   "execution_count": 3,
   "id": "through-substitute",
   "metadata": {},
   "outputs": [],
   "source": [
    "w2v1 = json.load(open('/home/yixiao/Desktop/repo/word_embedding/baseline/Skip_gram.json'))\n",
    "w2v2 = json.load(open('/home/yixiao/Desktop/repo/word_embedding/baseline/CBOW.json'))\n",
    "wt_m = json.load(open('/home/yixiao/Desktop/repo/nn_classifier/data/embeddings/topic_bert_mask_large.json'))\n",
    "g_m = json.load(open('/home/yixiao/Desktop/repo/word_embedding/general_vectors/masked/mask_bert_large.json'))"
   ]
  },
  {
   "cell_type": "code",
   "execution_count": 16,
   "id": "interested-resident",
   "metadata": {},
   "outputs": [],
   "source": [
    "# D_data = word_feature_dic('/home/yixiao/Desktop/repo/evaluation_data/McRae_new')\n",
    "# D_data = word_feature_dic('/home/yixiao/Desktop/repo/evaluation_data/CSLB_Property_Norms_V1')\n",
    "# D_data = word_feature_dic('/home/yixiao/Desktop/repo/evaluation_data/WordNet-3.0')\n",
    "D_data = word_feature_dic('/home/yixiao/Desktop/repo/evaluation_data/BabelDomains_full')"
   ]
  },
  {
   "cell_type": "code",
   "execution_count": 17,
   "id": "choice-brick",
   "metadata": {},
   "outputs": [
    {
     "name": "stdout",
     "output_type": "stream",
     "text": [
      "Found 34 features shared by all vectors\n"
     ]
    }
   ],
   "source": [
    "D_fea_words,sel_w = selected_word_featrue(D_data,\n",
    "                                    100,\n",
    "                                    w2v1,\n",
    "                                    w2v2,\n",
    "                                    wt_m,\n",
    "                                    g_m)"
   ]
  },
  {
   "cell_type": "code",
   "execution_count": 18,
   "id": "trying-murder",
   "metadata": {},
   "outputs": [],
   "source": [
    "with open('BD/all_words.txt','w') as outf:\n",
    "    for word in set(sel_w):\n",
    "        outf.write(word+'\\n')"
   ]
  }
 ],
 "metadata": {
  "kernelspec": {
   "display_name": "Python 3",
   "language": "python",
   "name": "python3"
  },
  "language_info": {
   "codemirror_mode": {
    "name": "ipython",
    "version": 3
   },
   "file_extension": ".py",
   "mimetype": "text/x-python",
   "name": "python",
   "nbconvert_exporter": "python",
   "pygments_lexer": "ipython3",
   "version": "3.8.5"
  }
 },
 "nbformat": 4,
 "nbformat_minor": 5
}
